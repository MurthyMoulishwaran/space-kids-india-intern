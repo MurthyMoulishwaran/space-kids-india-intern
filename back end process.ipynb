{
 "cells": [
  {
   "cell_type": "markdown",
   "id": "a148b36a-90dd-460b-946b-e84bc1546625",
   "metadata": {},
   "source": [
    "1.Stored the extracted text form image or pdf"
   ]
  },
  {
   "cell_type": "markdown",
   "id": "17da0905-2712-44ba-b3f7-264871bae1dd",
   "metadata": {},
   "source": [
    "1.1 Importing necessary libraries "
   ]
  },
  {
   "cell_type": "code",
   "execution_count": 1,
   "id": "dbea56d2-66c4-4cec-9723-ae21a61bcc31",
   "metadata": {},
   "outputs": [],
   "source": [
    "import tkinter as tk\n",
    "from tkinter import filedialog\n",
    "from pdf2image import convert_from_path\n",
    "import pytesseract\n",
    "from PIL import Image\n",
    "from symspellpy import SymSpell, Verbosity\n",
    "import psycopg2\n",
    "import os"
   ]
  },
  {
   "cell_type": "markdown",
   "id": "78dec7e8-77e1-4a05-8a89-47daf8004dbc",
   "metadata": {},
   "source": [
    "1.2 PostgreSQL connection details"
   ]
  },
  {
   "cell_type": "code",
   "execution_count": 2,
   "id": "f5d67914-a5a6-45ea-88c7-b490f8e0d28d",
   "metadata": {},
   "outputs": [],
   "source": [
    "DB_HOST = \"localhost\"\n",
    "DB_NAME = \"postgres\"\n",
    "DB_USER = \"postgres\"\n",
    "DB_PASSWORD = \"9965\"\n",
    "DB_PORT = \"5432\""
   ]
  },
  {
   "cell_type": "markdown",
   "id": "88e5124d-7a85-436f-b619-f19226dd6f9f",
   "metadata": {},
   "source": [
    "1.3 Define paths"
   ]
  },
  {
   "cell_type": "code",
   "execution_count": 3,
   "id": "c7f93e18-d7c5-4101-af57-94d7d3e712e9",
   "metadata": {},
   "outputs": [],
   "source": [
    "poppler_path = r\"C:\\\\Program Files\\\\poppler-24.08.0\\\\Library\\\\bin\"\n",
    "tesseract_path = r\"C:\\\\Program Files\\\\Tesseract-OCR\\\\tesseract.exe\"\n",
    "pytesseract.pytesseract.tesseract_cmd = tesseract_path"
   ]
  },
  {
   "cell_type": "markdown",
   "id": "ab1dd7b4-c57b-4823-9fa0-5d5e87f5a8a1",
   "metadata": {},
   "source": [
    "1.4 Initialize SymSpell"
   ]
  },
  {
   "cell_type": "code",
   "execution_count": 4,
   "id": "7c4ee42f-4a7b-4f01-80ce-03fa5116c9d3",
   "metadata": {},
   "outputs": [],
   "source": [
    "sym_spell = SymSpell(max_dictionary_edit_distance=2, prefix_length=7)\n",
    "dictionary_path = r\"D:\\\\space kids india\\\\en-80k.txt\"\n",
    "\n",
    "if not sym_spell.load_dictionary(dictionary_path, term_index=0, count_index=1):\n",
    "    print(\"❌ Dictionary file not found! Check the file path.\")\n",
    "    exit()"
   ]
  },
  {
   "cell_type": "markdown",
   "id": "1a9099dd-6bba-438e-b324-431a98ea8f03",
   "metadata": {},
   "source": [
    "1.5 Function to correct spelling"
   ]
  },
  {
   "cell_type": "code",
   "execution_count": 5,
   "id": "8a91c73a-24d1-4475-a246-786c5c7c1109",
   "metadata": {},
   "outputs": [
    {
     "name": "stdout",
     "output_type": "stream",
     "text": [
      "<function correct_spelling at 0x0000023719537740>\n"
     ]
    }
   ],
   "source": [
    "def correct_spelling(text):\n",
    "    words = text.split()\n",
    "    corrected_words = [sym_spell.lookup(word, Verbosity.CLOSEST, max_edit_distance=2)[0].term if sym_spell.lookup(word, Verbosity.CLOSEST, max_edit_distance=2) else word for word in words]\n",
    "    return \" \".join(corrected_words)\n",
    "\n",
    "print(correct_spelling)"
   ]
  },
  {
   "cell_type": "markdown",
   "id": "8a2006b2-f393-4644-9af8-88a48b91ac59",
   "metadata": {},
   "source": [
    "1.6 Function to select a file (PDF or Image)"
   ]
  },
  {
   "cell_type": "code",
   "execution_count": 6,
   "id": "9ea7c664-273b-4d29-8c49-67822997e383",
   "metadata": {},
   "outputs": [],
   "source": [
    "def select_file():\n",
    "    root = tk.Tk()\n",
    "    root.withdraw()\n",
    "    file_path = filedialog.askopenfilename(\n",
    "        title=\"Select a File\",\n",
    "        filetypes=[(\"PDF and Image Files\", \"*.pdf;*.png;*.jpg;*.jpeg;*.bmp;*.tiff;*.gif\")]\n",
    "    )\n",
    "    return file_path\n"
   ]
  },
  {
   "cell_type": "markdown",
   "id": "b1f90de4-b25c-4989-83ef-5e3dbed05362",
   "metadata": {},
   "source": [
    "1.7 Get user-selected file"
   ]
  },
  {
   "cell_type": "code",
   "execution_count": 7,
   "id": "98a7a78c-2d25-421d-869a-708d3686fb55",
   "metadata": {},
   "outputs": [
    {
     "name": "stdout",
     "output_type": "stream",
     "text": [
      "D:/space kids india/Screenshot 2025-03-06 190340.png\n"
     ]
    }
   ],
   "source": [
    "file_path = select_file()\n",
    "if not file_path:\n",
    "    print(\"❌ No file selected. Exiting...\")\n",
    "    exit()\n",
    "\n",
    "print(file_path)"
   ]
  },
  {
   "cell_type": "markdown",
   "id": "6bac4be8-9df5-44b0-a026-f13f5c8f581b",
   "metadata": {},
   "source": [
    "1.8 Connect to PostgreSQL"
   ]
  },
  {
   "cell_type": "code",
   "execution_count": 8,
   "id": "9db6fd49-b776-4a15-8a0c-b6d0d7f6cf84",
   "metadata": {},
   "outputs": [
    {
     "name": "stdout",
     "output_type": "stream",
     "text": [
      "✅ Connected to PostgreSQL database\n"
     ]
    }
   ],
   "source": [
    "def connect_to_db():\n",
    "    try:\n",
    "        conn = psycopg2.connect(\n",
    "            host=DB_HOST, database=DB_NAME, user=DB_USER, password=DB_PASSWORD, port=DB_PORT\n",
    "        )\n",
    "        cursor = conn.cursor()\n",
    "        print(\"✅ Connected to PostgreSQL database\")\n",
    "        return conn, cursor\n",
    "    except Exception as e:\n",
    "        print(f\"❌ Failed to connect to PostgreSQL: {e}\")\n",
    "        exit()\n",
    "\n",
    "conn, cursor = connect_to_db()"
   ]
  },
  {
   "cell_type": "markdown",
   "id": "fedeb5e3-3593-43c4-88f0-9ba38e17ccac",
   "metadata": {},
   "source": [
    "1.9 Ensure necessary tables exist"
   ]
  },
  {
   "cell_type": "code",
   "execution_count": 9,
   "id": "b467893b-55ab-42cc-a91c-cbd204484f47",
   "metadata": {},
   "outputs": [],
   "source": [
    "cursor.execute(\"\"\"\n",
    "    CREATE TABLE IF NOT EXISTS extracted_text (\n",
    "        id SERIAL PRIMARY KEY,\n",
    "        file_name TEXT NOT NULL,\n",
    "        page_number INT DEFAULT NULL,\n",
    "        corrected_text TEXT NOT NULL\n",
    "    )\n",
    "\"\"\")\n",
    "conn.commit()\n"
   ]
  },
  {
   "cell_type": "markdown",
   "id": "46cae56a-2ce0-46e0-bd90-f7a1df6ed3f6",
   "metadata": {},
   "source": [
    "1.10 Process file"
   ]
  },
  {
   "cell_type": "code",
   "execution_count": 10,
   "id": "151fac02-4633-4fa2-93da-90d8d9da8a0f",
   "metadata": {},
   "outputs": [
    {
     "name": "stdout",
     "output_type": "stream",
     "text": [
      "✅ Image text saved to PostgreSQL successfully!\n"
     ]
    }
   ],
   "source": [
    "file_name = os.path.basename(file_path)\n",
    "if file_path.lower().endswith(\".pdf\"):\n",
    "    images = convert_from_path(file_path, poppler_path=poppler_path, dpi=300)\n",
    "    for i, image in enumerate(images, start=1):\n",
    "        text = pytesseract.image_to_string(image, lang='eng')\n",
    "        corrected_text = correct_spelling(text)\n",
    "        cursor.execute(\"INSERT INTO extracted_text (file_name, page_number, corrected_text) VALUES (%s, %s, %s)\",\n",
    "                       (file_name, i, corrected_text))\n",
    "        conn.commit()\n",
    "        print(f\"✅ Page {i} stored in database\")\n",
    "else:\n",
    "    image = Image.open(file_path)\n",
    "    text = pytesseract.image_to_string(image, lang='eng')\n",
    "    corrected_text = correct_spelling(text)\n",
    "    cursor.execute(\"INSERT INTO extracted_text (file_name, corrected_text) VALUES (%s, %s)\",\n",
    "                   (file_name, corrected_text))\n",
    "    conn.commit()\n",
    "    print(\"✅ Image text saved to PostgreSQL successfully!\")\n"
   ]
  },
  {
   "cell_type": "markdown",
   "id": "0322852e-662c-47fd-90dd-adc0dba1bf54",
   "metadata": {},
   "source": [
    "1.11 Close database connection"
   ]
  },
  {
   "cell_type": "code",
   "execution_count": 11,
   "id": "c660064f-6a99-4d1e-8026-500741a827b6",
   "metadata": {},
   "outputs": [
    {
     "name": "stdout",
     "output_type": "stream",
     "text": [
      "\n",
      "✅ All data saved to PostgreSQL successfully!\n"
     ]
    }
   ],
   "source": [
    "cursor.close()\n",
    "conn.close()\n",
    "print(\"\\n✅ All data saved to PostgreSQL successfully!\")"
   ]
  },
  {
   "cell_type": "code",
   "execution_count": null,
   "id": "a74b7180-0a68-4cda-b1fa-5304cbfae43d",
   "metadata": {},
   "outputs": [],
   "source": []
  },
  {
   "cell_type": "markdown",
   "id": "023a8018-bca8-41d0-bf0f-67c7f5d79ef4",
   "metadata": {},
   "source": [
    "2. Retrieving the stored data "
   ]
  },
  {
   "cell_type": "markdown",
   "id": "0257c105-ead7-4ddc-bb96-e35509c1b538",
   "metadata": {},
   "source": [
    "2.1 impoerting libraries "
   ]
  },
  {
   "cell_type": "code",
   "execution_count": 12,
   "id": "2c4b9687-321a-4574-8ffc-7b8c5d63c17a",
   "metadata": {},
   "outputs": [],
   "source": [
    "import psycopg2"
   ]
  },
  {
   "cell_type": "markdown",
   "id": "1df2f061-e7b0-4f97-ba3d-09711414b61b",
   "metadata": {},
   "source": [
    "2.2 PostgreSQL connection details"
   ]
  },
  {
   "cell_type": "code",
   "execution_count": 13,
   "id": "b8d58c40-c0af-49db-b8d6-881719250cdc",
   "metadata": {},
   "outputs": [],
   "source": [
    "DB_HOST = \"localhost\"\n",
    "DB_NAME = \"postgres\"\n",
    "DB_USER = \"postgres\"\n",
    "DB_PASSWORD = \"9965\"\n",
    "DB_PORT = \"5432\"\n"
   ]
  },
  {
   "cell_type": "markdown",
   "id": "692b0613-bf18-47c2-9fa0-8b30756e98bf",
   "metadata": {},
   "source": [
    "2.3 Function to connect to PostgreSQL"
   ]
  },
  {
   "cell_type": "code",
   "execution_count": 14,
   "id": "c09e514f-d61b-490c-beb2-d1cb7b9d1b28",
   "metadata": {},
   "outputs": [],
   "source": [
    "def connect_to_db():\n",
    "    try:\n",
    "        conn = psycopg2.connect(\n",
    "            host=DB_HOST, database=DB_NAME, user=DB_USER, password=DB_PASSWORD, port=DB_PORT\n",
    "        )\n",
    "        return conn\n",
    "    except Exception as e:\n",
    "        print(f\"❌ Failed to connect to PostgreSQL: {e}\")\n",
    "        return None\n"
   ]
  },
  {
   "cell_type": "markdown",
   "id": "28352677-a444-42c8-8cf7-358986712f1a",
   "metadata": {},
   "source": [
    "2.4 Function to fetch extracted text based on user input (ID, file_name, or page_number)\n"
   ]
  },
  {
   "cell_type": "code",
   "execution_count": 16,
   "id": "f938f7de-6d7a-4648-9590-c62074b1baaa",
   "metadata": {},
   "outputs": [],
   "source": [
    "def fetch_text(identifier_type, identifier_value):\n",
    "    conn = connect_to_db()\n",
    "    if not conn:\n",
    "        return\n",
    "\n",
    "    query = \"SELECT id, file_name, page_number, corrected_text FROM extracted_text WHERE \"\n",
    "\n",
    "    if identifier_type == \"id\":\n",
    "        query += \"id = %s\"\n",
    "    elif identifier_type == \"file_name\":\n",
    "        query += \"file_name = %s\"\n",
    "    elif identifier_type == \"page_number\":\n",
    "        query += \"page_number = %s\"\n",
    "    else:\n",
    "        print(\"❌ Invalid input type! Please choose 'id', 'file_name', or 'page_number'.\")\n",
    "        return\n",
    "\n",
    "    with conn:\n",
    "        with conn.cursor() as cursor:\n",
    "            cursor.execute(query, (identifier_value,))\n",
    "            results = cursor.fetchall()\n",
    "\n",
    "            if results:\n",
    "                print(\"\\n✅ Extracted Text Results:\")\n",
    "                for row in results:\n",
    "                    print(f\"\\n📄 ID: {row[0]}, File Name: {row[1]}, Page Number: {row[2]}\")\n",
    "                    print(f\"📝 Extracted Text:\\n{row[3]}\\n\" + \"-\"*50)\n",
    "            else:\n",
    "                print(f\"⚠️ No results found for {identifier_type}: {identifier_value}\")\n"
   ]
  },
  {
   "cell_type": "markdown",
   "id": "70f521b5-4bd2-4124-8f3a-4b534da44f62",
   "metadata": {},
   "source": [
    "2.5 User input selection"
   ]
  },
  {
   "cell_type": "code",
   "execution_count": 18,
   "id": "473482c1-f257-4a1a-8c5c-b4ba7dcfeb79",
   "metadata": {},
   "outputs": [
    {
     "name": "stdout",
     "output_type": "stream",
     "text": [
      "\n",
      "🔍 Search by:\n",
      "1️⃣ ID\n",
      "2️⃣ File Name\n",
      "3️⃣ Page Number\n"
     ]
    },
    {
     "name": "stdin",
     "output_type": "stream",
     "text": [
      "Enter your choice (1/2/3):  2\n",
      "Enter File Name (with extension):  Screenshot 2025-03-06 190340.png\n"
     ]
    },
    {
     "name": "stdout",
     "output_type": "stream",
     "text": [
      "\n",
      "✅ Extracted Text Results:\n",
      "\n",
      "📄 ID: 1, File Name: Screenshot 2025-03-06 190340.png, Page Number: None\n",
      "📝 Extracted Text:\n",
      "a of Intsoduetton a is on oe collection of soda to that it be easily accessed a to manage these databases DBMS a database h to system and used DBMS DataBase: of Relationol_DBMs of and DBMS, data Honed'in in a table format erin it ate a mon ___|_ th of and th are with a relational is a a RolINo same class a of a a\n",
      "--------------------------------------------------\n",
      "\n",
      "📄 ID: 36, File Name: Screenshot 2025-03-06 190340.png, Page Number: None\n",
      "📝 Extracted Text:\n",
      "a of Intsoduetton a is on oe collection of soda to that it be easily accessed a to manage these databases DBMS a database h to system and used DBMS DataBase: of Relationol_DBMs of and DBMS, data Honed'in in a table format erin it ate a mon ___|_ th of and th are with a relational is a a RolINo same class a of a a\n",
      "--------------------------------------------------\n",
      "\n",
      "📄 ID: 37, File Name: Screenshot 2025-03-06 190340.png, Page Number: None\n",
      "📝 Extracted Text:\n",
      "a of Intsoduetton a is on oe collection of soda to that it be easily accessed a to manage these databases DBMS a database h to system and used DBMS DataBase: of Relationol_DBMs of and DBMS, data Honed'in in a table format erin it ate a mon ___|_ th of and th are with a relational is a a RolINo same class a of a a\n",
      "--------------------------------------------------\n",
      "\n",
      "📄 ID: 38, File Name: Screenshot 2025-03-06 190340.png, Page Number: None\n",
      "📝 Extracted Text:\n",
      "a of Intsoduetton a is on oe collection of soda to that it be easily accessed a to manage these databases DBMS a database h to system and used DBMS DataBase: of Relationol_DBMs of and DBMS, data Honed'in in a table format erin it ate a mon ___|_ th of and th are with a relational is a a RolINo same class a of a a\n",
      "--------------------------------------------------\n",
      "\n",
      "📄 ID: 39, File Name: Screenshot 2025-03-06 190340.png, Page Number: None\n",
      "📝 Extracted Text:\n",
      "a of Intsoduetton a is on oe collection of soda to that it be easily accessed a to manage these databases DBMS a database h to system and used DBMS DataBase: of Relationol_DBMs of and DBMS, data Honed'in in a table format erin it ate a mon ___|_ th of and th are with a relational is a a RolINo same class a of a a\n",
      "--------------------------------------------------\n",
      "\n",
      "📄 ID: 40, File Name: Screenshot 2025-03-06 190340.png, Page Number: None\n",
      "📝 Extracted Text:\n",
      "a of Intsoduetton a is on oe collection of soda to that it be easily accessed a to manage these databases DBMS a database h to system and used DBMS DataBase: of Relationol_DBMs of and DBMS, data Honed'in in a table format erin it ate a mon ___|_ th of and th are with a relational is a a RolINo same class a of a a\n",
      "--------------------------------------------------\n",
      "\n",
      "📄 ID: 41, File Name: Screenshot 2025-03-06 190340.png, Page Number: None\n",
      "📝 Extracted Text:\n",
      "a of Intsoduetton a is on oe collection of soda to that it be easily accessed a to manage these databases DBMS a database h to system and used DBMS DataBase: of Relationol_DBMs of and DBMS, data Honed'in in a table format erin it ate a mon ___|_ th of and th are with a relational is a a RolINo same class a of a a\n",
      "--------------------------------------------------\n",
      "\n",
      "📄 ID: 42, File Name: Screenshot 2025-03-06 190340.png, Page Number: None\n",
      "📝 Extracted Text:\n",
      "a of Intsoduetton a is on oe collection of soda to that it be easily accessed a to manage these databases DBMS a database h to system and used DBMS DataBase: of Relationol_DBMs of and DBMS, data Honed'in in a table format erin it ate a mon ___|_ th of and th are with a relational is a a RolINo same class a of a a\n",
      "--------------------------------------------------\n",
      "\n",
      "📄 ID: 43, File Name: Screenshot 2025-03-06 190340.png, Page Number: None\n",
      "📝 Extracted Text:\n",
      "a of Intsoduetton a is on oe collection of soda to that it be easily accessed a to manage these databases DBMS a database h to system and used DBMS DataBase: of Relationol_DBMs of and DBMS, data Honed'in in a table format erin it ate a mon ___|_ th of and th are with a relational is a a RolINo same class a of a a\n",
      "--------------------------------------------------\n",
      "\n",
      "📄 ID: 44, File Name: Screenshot 2025-03-06 190340.png, Page Number: None\n",
      "📝 Extracted Text:\n",
      "a of Intsoduetton a is on oe collection of soda to that it be easily accessed a to manage these databases DBMS a database h to system and used DBMS DataBase: of Relationol_DBMs of and DBMS, data Honed'in in a table format erin it ate a mon ___|_ th of and th are with a relational is a a RolINo same class a of a a\n",
      "--------------------------------------------------\n",
      "\n",
      "📄 ID: 45, File Name: Screenshot 2025-03-06 190340.png, Page Number: None\n",
      "📝 Extracted Text:\n",
      "a of Intsoduetton a is on oe collection of soda to that it be easily accessed a to manage these databases DBMS a database h to system and used DBMS DataBase: of Relationol_DBMs of and DBMS, data Honed'in in a table format erin it ate a mon ___|_ th of and th are with a relational is a a RolINo same class a of a a\n",
      "--------------------------------------------------\n",
      "\n",
      "📄 ID: 46, File Name: Screenshot 2025-03-06 190340.png, Page Number: None\n",
      "📝 Extracted Text:\n",
      "a of Intsoduetton a is on oe collection of soda to that it be easily accessed a to manage these databases DBMS a database h to system and used DBMS DataBase: of Relationol_DBMs of and DBMS, data Honed'in in a table format erin it ate a mon ___|_ th of and th are with a relational is a a RolINo same class a of a a\n",
      "--------------------------------------------------\n"
     ]
    }
   ],
   "source": [
    "print(\"\\n🔍 Search by:\")\n",
    "print(\"1️⃣ ID\")\n",
    "print(\"2️⃣ File Name\")\n",
    "print(\"3️⃣ Page Number\")\n",
    "choice = input(\"Enter your choice (1/2/3): \")\n",
    "\n",
    "if choice == \"1\":\n",
    "    id_value = int(input(\"Enter ID: \"))\n",
    "    fetch_text(\"id\", id_value)\n",
    "elif choice == \"2\":\n",
    "    file_name = input(\"Enter File Name (with extension): \")\n",
    "    fetch_text(\"file_name\", file_name)\n",
    "elif choice == \"3\":\n",
    "    page_number = int(input(\"Enter Page Number: \"))\n",
    "    fetch_text(\"page_number\", page_number)\n",
    "else:\n",
    "    print(\"❌ Invalid choice! Please enter 1, 2, or 3.\")\n"
   ]
  },
  {
   "cell_type": "code",
   "execution_count": null,
   "id": "330d361f-aebc-4b76-9dcd-8d83ed4639c0",
   "metadata": {},
   "outputs": [],
   "source": []
  },
  {
   "cell_type": "code",
   "execution_count": null,
   "id": "54d77e0f-fe28-4f37-9ae1-a071ed6db1df",
   "metadata": {},
   "outputs": [],
   "source": []
  },
  {
   "cell_type": "code",
   "execution_count": null,
   "id": "adfd1771-fb52-4d05-9bdc-21a0eaf5424a",
   "metadata": {},
   "outputs": [],
   "source": []
  }
 ],
 "metadata": {
  "kernelspec": {
   "display_name": "Python 3 (ipykernel)",
   "language": "python",
   "name": "python3"
  },
  "language_info": {
   "codemirror_mode": {
    "name": "ipython",
    "version": 3
   },
   "file_extension": ".py",
   "mimetype": "text/x-python",
   "name": "python",
   "nbconvert_exporter": "python",
   "pygments_lexer": "ipython3",
   "version": "3.12.3"
  }
 },
 "nbformat": 4,
 "nbformat_minor": 5
}
